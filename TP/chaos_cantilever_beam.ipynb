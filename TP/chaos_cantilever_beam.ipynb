{
 "cells": [
  {
   "cell_type": "code",
   "execution_count": 1,
   "metadata": {
    "collapsed": false
   },
   "outputs": [
    {
     "name": "stdout",
     "output_type": "stream",
     "text": [
      "Populating the interactive namespace from numpy and matplotlib\n"
     ]
    }
   ],
   "source": [
    "%pylab inline"
   ]
  },
  {
   "cell_type": "code",
   "execution_count": 2,
   "metadata": {
    "collapsed": true
   },
   "outputs": [],
   "source": [
    "from numpy import array\n",
    "from openturns import *\n",
    "from openturns.viewer import View\n",
    "\n",
    "RandomGenerator.SetSeed(63)"
   ]
  },
  {
   "cell_type": "markdown",
   "metadata": {},
   "source": [
    "# Step A - Model specification"
   ]
  },
  {
   "cell_type": "code",
   "execution_count": 3,
   "metadata": {
    "collapsed": true
   },
   "outputs": [],
   "source": [
    "dim = 4\n",
    "model = NumericalMathFunction([\"E\", \"F\", \"L\", \"I\"], [\"F*L^3/(3*E*I)\"])"
   ]
  },
  {
   "cell_type": "markdown",
   "metadata": {},
   "source": [
    "# Step B - Modelling of the input uncertainty"
   ]
  },
  {
   "cell_type": "markdown",
   "metadata": {},
   "source": [
    "We first define the marginal distributions"
   ]
  },
  {
   "cell_type": "code",
   "execution_count": 4,
   "metadata": {
    "collapsed": false
   },
   "outputs": [
    {
     "data": {
      "text/html": [
       "<p>[3.29454e+11]<br>\n",
       "</p>"
      ],
      "text/plain": [
       "class=NumericalPoint name=Unnamed dimension=1 values=[3.29454e+11]"
      ]
     },
     "execution_count": 4,
     "metadata": {},
     "output_type": "execute_result"
    }
   ],
   "source": [
    "# Young's modulus E: data-based kernel distribution\n",
    "kernel = KernelSmoothing()\n",
    "sample = NumericalSample.ImportFromCSVFile(\"sample_E.csv\") * 1e4 # in Pa\n",
    "dist_E = kernel.build(sample)\n",
    "# Load F: lognormal\n",
    "dist_F = LogNormal(3e4, 9e4, 1e-2, LogNormal.MUSIGMA) # in N\n",
    "# Length L: uniform\n",
    "dist_L = Uniform(2.5, 2.6) # in m\n",
    "# Moment of inertia I: beta\n",
    "dist_I = Beta(2.5, 4, 3.1e-4, 4.5e-4) # in m^4\n",
    "dist_E.computeQuantile(0.5)"
   ]
  },
  {
   "cell_type": "markdown",
   "metadata": {},
   "source": [
    "Then we specify the copula: a Gaussian copula is assumed, with a linear correlation between 'L' and 'I'"
   ]
  },
  {
   "cell_type": "code",
   "execution_count": 5,
   "metadata": {
    "collapsed": true
   },
   "outputs": [],
   "source": [
    "R = CorrelationMatrix(dim)\n",
    "R[2,3] = -.2\n",
    "myCopula = NormalCopula(NormalCopula.GetCorrelationFromSpearmanCorrelation(R))"
   ]
  },
  {
   "cell_type": "markdown",
   "metadata": {},
   "source": [
    "Lastly we gather the marginals and the copula to create the joint distribution of the inputs"
   ]
  },
  {
   "cell_type": "code",
   "execution_count": 6,
   "metadata": {
    "collapsed": false
   },
   "outputs": [],
   "source": [
    "myDistribution = ComposedDistribution([dist_E, dist_F, dist_L, dist_I], myCopula)"
   ]
  },
  {
   "cell_type": "markdown",
   "metadata": {},
   "source": [
    "# Step C - Uncertainty propagation based on polynomial chaos"
   ]
  },
  {
   "cell_type": "markdown",
   "metadata": {},
   "source": [
    "## Construct the polynomial chaos approximation"
   ]
  },
  {
   "cell_type": "markdown",
   "metadata": {},
   "source": [
    "The types of 1D polynomial families are defined"
   ]
  },
  {
   "cell_type": "code",
   "execution_count": 7,
   "metadata": {
    "collapsed": true
   },
   "outputs": [],
   "source": [
    "polyColl = PolynomialFamilyCollection(dim)\n",
    "polyColl[0] = StandardDistributionPolynomialFactory(dist_E)\n",
    "polyColl[1] = LaguerreFactory() # beware of ad-hoc polynomials with the lognormal distribution\n",
    "polyColl[2] = StandardDistributionPolynomialFactory(dist_L)\n",
    "polyColl[3] = StandardDistributionPolynomialFactory(dist_I)"
   ]
  },
  {
   "cell_type": "markdown",
   "metadata": {},
   "source": [
    "Define the strategy for enumerating the elements of the multivariate tensorized basis"
   ]
  },
  {
   "cell_type": "code",
   "execution_count": 8,
   "metadata": {
    "collapsed": true
   },
   "outputs": [],
   "source": [
    "enumerateFunction = EnumerateFunction(dim)"
   ]
  },
  {
   "cell_type": "markdown",
   "metadata": {},
   "source": [
    "Determine the number of elements to be retained in the chaos series"
   ]
  },
  {
   "cell_type": "code",
   "execution_count": 9,
   "metadata": {
    "collapsed": true
   },
   "outputs": [],
   "source": [
    "p = 4 # total degree\n",
    "P = enumerateFunction.getStrataCumulatedCardinal(p) # number of chaos terms"
   ]
  },
  {
   "cell_type": "markdown",
   "metadata": {},
   "source": [
    "Define the multivariate basis"
   ]
  },
  {
   "cell_type": "code",
   "execution_count": 10,
   "metadata": {
    "collapsed": true
   },
   "outputs": [],
   "source": [
    "multivariateBasis = OrthogonalProductPolynomialFactory(polyColl, enumerateFunction)"
   ]
  },
  {
   "cell_type": "markdown",
   "metadata": {},
   "source": [
    "Specify the strategy for computing the chaos coefficients: sparse least squares (based on Least Angle Regression)"
   ]
  },
  {
   "cell_type": "code",
   "execution_count": 11,
   "metadata": {
    "collapsed": true
   },
   "outputs": [],
   "source": [
    "basisSequenceFactory = LAR()\n",
    "fittingAlgorithm = CorrectedLeaveOneOut()\n",
    "approximationAlgorithm = LeastSquaresMetaModelSelectionFactory(basisSequenceFactory, fittingAlgorithm)\n",
    "N = 600 # size of the experimental design\n",
    "evalStrategy = LeastSquaresStrategy(MonteCarloExperiment(N), approximationAlgorithm) # Monte Carlo design\n",
    "truncatureBasisStrategy = FixedStrategy(multivariateBasis, P)"
   ]
  },
  {
   "cell_type": "markdown",
   "metadata": {},
   "source": [
    "Construct the chaos metamodel"
   ]
  },
  {
   "cell_type": "code",
   "execution_count": 12,
   "metadata": {
    "collapsed": false
   },
   "outputs": [],
   "source": [
    "polynomialChaosAlgorithm = FunctionalChaosAlgorithm(model, myDistribution, truncatureBasisStrategy, evalStrategy)\n",
    "polynomialChaosAlgorithm.run()"
   ]
  },
  {
   "cell_type": "markdown",
   "metadata": {},
   "source": [
    "Get the result"
   ]
  },
  {
   "cell_type": "code",
   "execution_count": 13,
   "metadata": {
    "collapsed": true
   },
   "outputs": [],
   "source": [
    "result = polynomialChaosAlgorithm.getResult()\n",
    "metamodel = result.getMetaModel()\n",
    "chaosRV = FunctionalChaosRandomVector(result)"
   ]
  },
  {
   "cell_type": "markdown",
   "metadata": {},
   "source": [
    "## Validate the metamodel"
   ]
  },
  {
   "cell_type": "markdown",
   "metadata": {},
   "source": [
    "Generate a validation sample (different from the training sample)"
   ]
  },
  {
   "cell_type": "code",
   "execution_count": 14,
   "metadata": {
    "collapsed": false
   },
   "outputs": [],
   "source": [
    "n_valid = 500\n",
    "inputSample = myDistribution.getSample(n_valid)\n",
    "outputSample = model(inputSample)"
   ]
  },
  {
   "cell_type": "markdown",
   "metadata": {},
   "source": [
    "Get the corresponding chaos-based predictions"
   ]
  },
  {
   "cell_type": "code",
   "execution_count": 15,
   "metadata": {
    "collapsed": false
   },
   "outputs": [],
   "source": [
    "outputChaosSample = metamodel(inputSample)"
   ]
  },
  {
   "cell_type": "markdown",
   "metadata": {},
   "source": [
    "Compute the relative mean-square accuracy (so-called Q2 coefficient)"
   ]
  },
  {
   "cell_type": "code",
   "execution_count": 16,
   "metadata": {
    "collapsed": false
   },
   "outputs": [
    {
     "name": "stdout",
     "output_type": "stream",
     "text": [
      "Q2 coefficient (relative accuracy): 0.9997\n"
     ]
    }
   ],
   "source": [
    "residuals = outputSample - outputChaosSample\n",
    "Q2 = 1. - residuals.computeVariance()[0] / outputSample.computeVariance()[0]\n",
    "print(\"Q2 coefficient (relative accuracy): %.4f\" % Q2)"
   ]
  },
  {
   "cell_type": "markdown",
   "metadata": {},
   "source": [
    "Plot the actual vs the predicted outputs"
   ]
  },
  {
   "cell_type": "code",
   "execution_count": 17,
   "metadata": {
    "collapsed": false
   },
   "outputs": [
    {
     "data": {
      "image/png": "[encoded data removed]",
      "text/plain": [
       "<matplotlib.figure.Figure at 0x7f5c934eaf50>"
      ]
     },
     "metadata": {},
     "output_type": "display_data"
    }
   ],
   "source": [
    "mixedSample = NumericalSample(n_valid, 2)\n",
    "mixedSample[:,0], mixedSample[:,1] = outputChaosSample, outputSample\n",
    "pointCloud = Cloud(mixedSample, \"blue\", \"fsquare\", \"\")\n",
    "graphCloud = Graph(\"Polynomial chaos\", \"Model\", \"Metamodel\", True, \"topleft\")\n",
    "graphCloud.add(pointCloud)\n",
    "View(graphCloud).show()"
   ]
  },
  {
   "cell_type": "markdown",
   "metadata": {},
   "source": [
    "## Post-processing of the chaos expansion"
   ]
  },
  {
   "cell_type": "markdown",
   "metadata": {},
   "source": [
    "Computation of the output mean and standard deviation from the chaos coefficients"
   ]
  },
  {
   "cell_type": "code",
   "execution_count": 18,
   "metadata": {
    "collapsed": false
   },
   "outputs": [
    {
     "name": "stdout",
     "output_type": "stream",
     "text": [
      "Mean: 0.001377\n",
      "Standard deviation: 0.004043\n"
     ]
    }
   ],
   "source": [
    "print(\"Mean: %f\" % chaosRV.getMean()[0])\n",
    "print(\"Standard deviation: %f\" % sqrt(chaosRV.getCovariance()[0,0]))"
   ]
  },
  {
   "cell_type": "markdown",
   "metadata": {},
   "source": [
    "Draw histogram"
   ]
  },
  {
   "cell_type": "code",
   "execution_count": 19,
   "metadata": {
    "collapsed": false
   },
   "outputs": [
    {
     "data": {
      "image/png": "[encoded data removed]",
      "text/plain": [
       "<matplotlib.figure.Figure at 0x7f5c9013d650>"
      ]
     },
     "metadata": {},
     "output_type": "display_data"
    }
   ],
   "source": [
    "inputBigSample = myDistribution.getSample(10000)\n",
    "outputBigsample = model(inputBigSample)\n",
    "kernel2 = KernelSmoothing()\n",
    "fittedDist = kernel2.build(outputBigsample)\n",
    "graph = fittedDist.drawPDF()\n",
    "View(graph).show()"
   ]
  },
  {
   "cell_type": "markdown",
   "metadata": {},
   "source": [
    "Compute the sensitivity indices"
   ]
  },
  {
   "cell_type": "code",
   "execution_count": 20,
   "metadata": {
    "collapsed": false
   },
   "outputs": [
    {
     "name": "stdout",
     "output_type": "stream",
     "text": [
      "Sensitivity to E: 0.001828\n",
      "Sensitivity to F: 0.978473\n",
      "Sensitivity to L: 0.000261\n",
      "Sensitivity to I: 0.000721\n",
      "Total sensitivity to E: 0.014834\n",
      "Total sensitivity to F: 0.997183\n",
      "Total sensitivity to L: 0.002186\n",
      "Total sensitivity to I: 0.004555\n"
     ]
    }
   ],
   "source": [
    "# Main-effects\n",
    "for i, Xi in enumerate([\"E\", \"F\", \"L\", \"I\"]):\n",
    "    sobolIndex = chaosRV.getSobolIndex(i)\n",
    "    print(\"Sensitivity to \"+Xi+\": %f\" %sobolIndex)\n",
    "\n",
    "# Total indices\n",
    "for i, Xi in enumerate([\"E\", \"F\", \"L\", \"I\"]):\n",
    "    sobolTotalIndex = chaosRV.getSobolTotalIndex(i)\n",
    "    print(\"Total sensitivity to \"+Xi+\": %f\" %sobolTotalIndex)"
   ]
  },
  {
   "cell_type": "markdown",
   "metadata": {},
   "source": [
    "Reliability analysis with a maximal admissible deflection equal to 3 cm "
   ]
  },
  {
   "cell_type": "code",
   "execution_count": 21,
   "metadata": {
    "collapsed": false
   },
   "outputs": [
    {
     "name": "stdout",
     "output_type": "stream",
     "text": [
      "Estimated probability of failure: 2.3500e-03\n"
     ]
    }
   ],
   "source": [
    "N = int(1e5)\n",
    "th = 0.03 # in m\n",
    "inputVeryBigSample = myDistribution.getSample(N)\n",
    "outputVeryBigsample = model(inputVeryBigSample)\n",
    "output_arr = array(outputVeryBigsample).ravel()\n",
    "Pf = len(np.where(output_arr > th)[0]) / float(N)\n",
    "print(\"Estimated probability of failure: %.4e\" % Pf)"
   ]
  }
 ],
 "metadata": {
  "kernelspec": {
   "display_name": "Python 2",
   "language": "python",
   "name": "python2"
  },
  "language_info": {
   "codemirror_mode": {
    "name": "ipython",
    "version": 2
   },
   "file_extension": ".py",
   "mimetype": "text/x-python",
   "name": "python",
   "nbconvert_exporter": "python",
   "pygments_lexer": "ipython2",
   "version": "2.7.11"
  }
 },
 "nbformat": 4,
 "nbformat_minor": 0
}
