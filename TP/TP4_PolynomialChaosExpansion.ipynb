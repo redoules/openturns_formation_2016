{
 "cells": [
  {
   "cell_type": "code",
   "execution_count": 1,
   "metadata": {
    "collapsed": false
   },
   "outputs": [
    {
     "name": "stdout",
     "output_type": "stream",
     "text": [
      "Populating the interactive namespace from numpy and matplotlib\n"
     ]
    }
   ],
   "source": [
    "import openturns as ot\n",
    "from openturns.viewer import View\n",
    "import numpy as np\n",
    "import pylab as pl\n",
    "%pylab --no-import-all inline"
   ]
  },
  {
   "cell_type": "markdown",
   "metadata": {},
   "source": [
    "# Step A: define the physical model"
   ]
  },
  {
   "cell_type": "code",
   "execution_count": 31,
   "metadata": {
    "collapsed": false
   },
   "outputs": [],
   "source": [
    "model = ot.NumericalMathFunction([\"F\", \"E\", \"L\", \"I\"], [\"v\"], [\"F*L^3/(3*E*I)\"])\n",
    "model.enableHistory()"
   ]
  },
  {
   "cell_type": "code",
   "execution_count": 32,
   "metadata": {
    "collapsed": false
   },
   "outputs": [
    {
     "data": {
      "text/html": [
       "<p>[12.3144]<br>\n",
       "</p>"
      ],
      "text/plain": [
       "class=NumericalPoint name=Unnamed dimension=1 values=[12.3144]"
      ]
     },
     "execution_count": 32,
     "metadata": {},
     "output_type": "execute_result"
    }
   ],
   "source": [
    "m = np.array([30000,3.38744e+07,255,397.5])\n",
    "model(m)"
   ]
  },
  {
   "cell_type": "markdown",
   "metadata": {},
   "source": [
    "# Step B: specify the input random vector # "
   ]
  },
  {
   "cell_type": "code",
   "execution_count": 33,
   "metadata": {
    "collapsed": false
   },
   "outputs": [],
   "source": [
    "sample_E = ot.NumericalSample.ImportFromCSVFile(\"sample_E.csv\") \n",
    "kernel_smoothing = ot.KernelSmoothing(ot.Normal())\n",
    "bandwidth = kernel_smoothing.computeSilvermanBandwidth(sample_E)\n",
    "E = kernel_smoothing.build(sample_E, bandwidth)\n",
    "E.setDescription(['Young modulus'])"
   ]
  },
  {
   "cell_type": "code",
   "execution_count": 34,
   "metadata": {
    "collapsed": false
   },
   "outputs": [],
   "source": [
    "F = ot.LogNormal(30000, 9000, 15000, ot.LogNormal.MUSIGMA)\n",
    "F.setDescription(['Load'])"
   ]
  },
  {
   "cell_type": "code",
   "execution_count": 35,
   "metadata": {
    "collapsed": false
   },
   "outputs": [],
   "source": [
    "L = ot.Uniform(250, 260)\n",
    "L.setDescription(['Length'])"
   ]
  },
  {
   "cell_type": "code",
   "execution_count": 36,
   "metadata": {
    "collapsed": false
   },
   "outputs": [],
   "source": [
    "I = ot.Beta(2.5, 4, 310, 450)\n",
    "I.setDescription(['Inertia'])"
   ]
  },
  {
   "cell_type": "code",
   "execution_count": 37,
   "metadata": {
    "collapsed": false
   },
   "outputs": [],
   "source": [
    "marginal_distributions = [F, E, L, I]"
   ]
  },
  {
   "cell_type": "code",
   "execution_count": 38,
   "metadata": {
    "collapsed": false
   },
   "outputs": [],
   "source": [
    "SR_cor = ot.CorrelationMatrix(len(marginal_distributions))\n",
    "SR_cor[2, 3] = -0.2\n",
    "copula = ot.NormalCopula(ot.NormalCopula.GetCorrelationFromSpearmanCorrelation(SR_cor))"
   ]
  },
  {
   "cell_type": "code",
   "execution_count": 39,
   "metadata": {
    "collapsed": false
   },
   "outputs": [],
   "source": [
    "input_distribution = ot.ComposedDistribution(marginal_distributions, copula)"
   ]
  },
  {
   "cell_type": "code",
   "execution_count": 40,
   "metadata": {
    "collapsed": false
   },
   "outputs": [],
   "source": [
    "input_random_vector = ot.RandomVector(input_distribution)"
   ]
  },
  {
   "cell_type": "markdown",
   "metadata": {},
   "source": [
    "# Step C: uncertainty propagation\n",
    "\n",
    "A polynomial chaos (PC) metamodel is used.\n",
    "\n",
    "## Specification of the PC basis\n",
    "\n",
    "We use \"dedicated\" families of polynomials, except for the lognormal PDF which is not defined uniquely by its moment sequence."
   ]
  },
  {
   "cell_type": "code",
   "execution_count": 41,
   "metadata": {
    "collapsed": false
   },
   "outputs": [],
   "source": [
    "univariate_polynomials_bases = [\n",
    "    ot.HermiteFactory(),\n",
    "    ot.StandardDistributionPolynomialFactory(E),\n",
    "    ot.StandardDistributionPolynomialFactory(L),\n",
    "    ot.StandardDistributionPolynomialFactory(I)]"
   ]
  },
  {
   "cell_type": "code",
   "execution_count": 42,
   "metadata": {
    "collapsed": false
   },
   "outputs": [],
   "source": [
    "enumerate_function = ot.EnumerateFunction(input_distribution.getDimension())"
   ]
  },
  {
   "cell_type": "code",
   "execution_count": 43,
   "metadata": {
    "collapsed": false
   },
   "outputs": [],
   "source": [
    "multivariate_polynomial_basis = ot.OrthogonalProductPolynomialFactory(univariate_polynomials_bases, enumerate_function)"
   ]
  },
  {
   "cell_type": "markdown",
   "metadata": {},
   "source": [
    "## Construction of the PC approximation"
   ]
  },
  {
   "cell_type": "code",
   "execution_count": 44,
   "metadata": {
    "collapsed": false
   },
   "outputs": [],
   "source": [
    "basis_sequence_factory = ot.LAR()"
   ]
  },
  {
   "cell_type": "code",
   "execution_count": 45,
   "metadata": {
    "collapsed": false
   },
   "outputs": [],
   "source": [
    "fitting_algorithm = ot.CorrectedLeaveOneOut()"
   ]
  },
  {
   "cell_type": "code",
   "execution_count": 46,
   "metadata": {
    "collapsed": false
   },
   "outputs": [],
   "source": [
    "approximation_algorithm = ot.LeastSquaresMetaModelSelectionFactory(basis_sequence_factory, fitting_algorithm)"
   ]
  },
  {
   "cell_type": "code",
   "execution_count": 47,
   "metadata": {
    "collapsed": false
   },
   "outputs": [],
   "source": [
    "design_of_experiments = ot.MonteCarloExperiment(1000)"
   ]
  },
  {
   "cell_type": "code",
   "execution_count": 48,
   "metadata": {
    "collapsed": false
   },
   "outputs": [],
   "source": [
    "evaluation_strategy = ot.LeastSquaresStrategy(design_of_experiments, approximation_algorithm)"
   ]
  },
  {
   "cell_type": "code",
   "execution_count": 49,
   "metadata": {
    "collapsed": false
   },
   "outputs": [],
   "source": [
    "total_degree = 3\n",
    "n_terms =  enumerate_function.getStrataCumulatedCardinal(total_degree)"
   ]
  },
  {
   "cell_type": "code",
   "execution_count": 50,
   "metadata": {
    "collapsed": false
   },
   "outputs": [],
   "source": [
    "basis_truncature_strategy = ot.FixedStrategy(multivariate_polynomial_basis, n_terms)"
   ]
  },
  {
   "cell_type": "code",
   "execution_count": 51,
   "metadata": {
    "collapsed": false
   },
   "outputs": [],
   "source": [
    "model.clearHistory()\n",
    "PCE_algorithm = ot.FunctionalChaosAlgorithm(model, input_distribution, basis_truncature_strategy, evaluation_strategy)\n",
    "PCE_algorithm.run()"
   ]
  },
  {
   "cell_type": "code",
   "execution_count": 67,
   "metadata": {
    "collapsed": false
   },
   "outputs": [],
   "source": [
    "# get the input and output from the history\n",
    "input_sample = model.getHistoryInput().getSample()\n",
    "output_sample = model.getHistoryOutput().getSample()"
   ]
  },
  {
   "cell_type": "code",
   "execution_count": 68,
   "metadata": {
    "collapsed": false
   },
   "outputs": [],
   "source": [
    "PCE_result = PCE_algorithm.getResult()\n",
    "metamodel = PCE_result.getMetaModel()"
   ]
  },
  {
   "cell_type": "code",
   "execution_count": 69,
   "metadata": {
    "collapsed": false
   },
   "outputs": [
    {
     "data": {
      "text/html": [
       "<TABLE><TR><TD></TD><TH>y0</TH></TR><TR><TH>0</TH><TD>11.6039715991</TD></TR></TABLE>"
      ],
      "text/plain": [
       "class=NumericalSample name=Unnamed implementation=class=NumericalSampleImplementation name=Unnamed size=1 dimension=1 description=[y0] data=[[11.604]]"
      ]
     },
     "execution_count": 69,
     "metadata": {},
     "output_type": "execute_result"
    }
   ],
   "source": [
    "metamodel(input_distribution.getSample(1))"
   ]
  },
  {
   "cell_type": "markdown",
   "metadata": {},
   "source": [
    "## Assess the metamodel goodness-of-fit"
   ]
  },
  {
   "cell_type": "markdown",
   "metadata": {},
   "source": [
    "Question: What happens with the following metrics if we replace the adapted polynomials with Legendre or Hermite polynomials?"
   ]
  },
  {
   "cell_type": "markdown",
   "metadata": {},
   "source": [
    "### Leave-one-out estimate of the $R^2$ score"
   ]
  },
  {
   "cell_type": "code",
   "execution_count": 70,
   "metadata": {
    "collapsed": false
   },
   "outputs": [
    {
     "name": "stdout",
     "output_type": "stream",
     "text": [
      "\n",
      "R2 coefficient: 0.999998 \n",
      "\n"
     ]
    }
   ],
   "source": [
    "R2 = 1. - PCE_result.getRelativeErrors()[0]\n",
    "print(\"\\nR2 coefficient: %.6f \\n\" % R2)"
   ]
  },
  {
   "cell_type": "code",
   "execution_count": 71,
   "metadata": {
    "collapsed": false
   },
   "outputs": [
    {
     "data": {
      "text/html": [
       "<p>[0.000108062]<br>\n",
       "</p>"
      ],
      "text/plain": [
       "class=NumericalPoint name=Unnamed dimension=1 values=[0.000108062]"
      ]
     },
     "execution_count": 71,
     "metadata": {},
     "output_type": "execute_result"
    }
   ],
   "source": [
    "PCE_result.getResiduals()"
   ]
  },
  {
   "cell_type": "markdown",
   "metadata": {},
   "source": [
    "### Adequation plot"
   ]
  },
  {
   "cell_type": "code",
   "execution_count": 75,
   "metadata": {
    "collapsed": false
   },
   "outputs": [
    {
     "name": "stdout",
     "output_type": "stream",
     "text": [
      "R2 :  0.999296554563\n"
     ]
    },
    {
     "data": {
      "image/png": "[encoded data removed]",
      "text/plain": [
       "<matplotlib.figure.Figure at 0x7fad93096dd0>"
      ]
     },
     "metadata": {},
     "output_type": "display_data"
    }
   ],
   "source": [
    "validation = ot.MetaModelValidation(input_sample, output_sample, metamodel)\n",
    "print 'R2 : ', validation.computePredictivityFactor()\n",
    "View(validation.drawValidation()).show()"
   ]
  },
  {
   "cell_type": "markdown",
   "metadata": {},
   "source": [
    "### Superposition of the model and the metamodel in 1D cuts"
   ]
  },
  {
   "cell_type": "code",
   "execution_count": 76,
   "metadata": {
    "collapsed": false
   },
   "outputs": [
    {
     "data": {
      "image/png": "[encoded data removed]",
      "text/plain": [
       "<matplotlib.figure.Figure at 0x7fad930ef910>"
      ]
     },
     "metadata": {},
     "output_type": "display_data"
    }
   ],
   "source": [
    "input_number = 0\n",
    "input_margin = input_distribution.getMarginal(input_number)\n",
    "model_cut = model.draw(input_number,\n",
    "                       0,\n",
    "                       input_distribution.getMean(),\n",
    "                       input_margin.computeQuantile(.025)[0],\n",
    "                       input_margin.computeQuantile(.975)[0],\n",
    "                       100).getDrawable(0)\n",
    "metamodel_cut = metamodel.draw(input_number,\n",
    "                               0,\n",
    "                               input_distribution.getMean(),\n",
    "                               input_margin.computeQuantile(.025)[0],\n",
    "                               input_margin.computeQuantile(.975)[0],\n",
    "                               100).getDrawable(0)\n",
    "graph = ot.Graph()\n",
    "graph.add([model_cut, metamodel_cut])\n",
    "graph.setColors([\"blue\", \"red\"])\n",
    "graph.setLegends([\"Model\", \"Metamodel\"])\n",
    "graph.setXTitle(input_margin.getDescription()[0])\n",
    "graph.setYTitle(model.getOutputDescription()[0])\n",
    "_ = View(graph)"
   ]
  },
  {
   "cell_type": "markdown",
   "metadata": {},
   "source": [
    "Computation of the output mean and standard deviation from the chaos coefficients"
   ]
  },
  {
   "cell_type": "markdown",
   "metadata": {},
   "source": [
    "## Use chaos for surrogate-based statistical analyses\n",
    "\n",
    "First let's make a random vector out of the polynomial chaos metamodel."
   ]
  },
  {
   "cell_type": "code",
   "execution_count": 77,
   "metadata": {
    "collapsed": false
   },
   "outputs": [],
   "source": [
    "chaos_based_output_random_vector = ot.FunctionalChaosRandomVector(PCE_result)"
   ]
  },
  {
   "cell_type": "markdown",
   "metadata": {},
   "source": [
    "### Compute moments"
   ]
  },
  {
   "cell_type": "code",
   "execution_count": 78,
   "metadata": {
    "collapsed": false
   },
   "outputs": [
    {
     "name": "stdout",
     "output_type": "stream",
     "text": [
      "Mean: 13.83\n"
     ]
    }
   ],
   "source": [
    "print(\"Mean: %.2f\" % chaos_based_output_random_vector.getMean()[0])"
   ]
  },
  {
   "cell_type": "markdown",
   "metadata": {},
   "source": [
    "### Computation of the Sobol indices from the chaos coefficients"
   ]
  },
  {
   "cell_type": "code",
   "execution_count": 79,
   "metadata": {
    "collapsed": false
   },
   "outputs": [
    {
     "name": "stdout",
     "output_type": "stream",
     "text": [
      "First-order Sobol index for Load is 0.75\n",
      "First-order Sobol index for Young modulus is 0.16\n",
      "First-order Sobol index for Length is 0.02\n",
      "First-order Sobol index for Inertia is 0.05\n"
     ]
    }
   ],
   "source": [
    "for i in range(input_distribution.getDimension()):\n",
    "    print \"First-order Sobol index for %s is %.2f\" % (\n",
    "        input_distribution.getDescription()[i], chaos_based_output_random_vector.getSobolIndex(i))"
   ]
  },
  {
   "cell_type": "code",
   "execution_count": 80,
   "metadata": {
    "collapsed": false
   },
   "outputs": [
    {
     "name": "stdout",
     "output_type": "stream",
     "text": [
      "Total-order Sobol index for Load is 0.77\n",
      "Total-order Sobol index for Young modulus is 0.17\n",
      "Total-order Sobol index for Length is 0.02\n",
      "Total-order Sobol index for Inertia is 0.06\n"
     ]
    }
   ],
   "source": [
    "for i in range(input_distribution.getDimension()):\n",
    "    print \"Total-order Sobol index for %s is %.2f\" % (\n",
    "        input_distribution.getDescription()[i], chaos_based_output_random_vector.getSobolTotalIndex(i))"
   ]
  },
  {
   "cell_type": "markdown",
   "metadata": {},
   "source": [
    "### Reliability analysis using a (large) Monte Carlo sample of the chaos approximation"
   ]
  },
  {
   "cell_type": "code",
   "execution_count": 81,
   "metadata": {
    "collapsed": false
   },
   "outputs": [],
   "source": [
    "event = ot.Event(chaos_based_output_random_vector, ot.Greater(), 30.) \n",
    "event.setName(\"Deviation > %s cm\" % event.getThreshold())"
   ]
  },
  {
   "cell_type": "markdown",
   "metadata": {},
   "source": [
    "### PDF and CDF approximations"
   ]
  },
  {
   "cell_type": "code",
   "execution_count": 82,
   "metadata": {
    "collapsed": false
   },
   "outputs": [
    {
     "data": {
      "image/png": "[encoded data removed]",
      "text/plain": [
       "<matplotlib.figure.Figure at 0x7fad9300a290>"
      ]
     },
     "metadata": {},
     "output_type": "display_data"
    }
   ],
   "source": [
    "sample = chaos_based_output_random_vector.getSample(1000)\n",
    "fig = pl.figure(figsize=(12, 4))\n",
    "ax_pdf = fig.add_subplot(1, 2, 1)\n",
    "hist_E = ot.VisualTest_DrawHistogram(sample)\n",
    "hist_E.setColors([\"gray\"])\n",
    "hist_E.setLegends([\"Histogram\"])\n",
    "_ = View(hist_E, figure=fig, axes=[ax_pdf])\n",
    "ax_cdf = fig.add_subplot(1, 2, 2)\n",
    "ecdf_E = ot.VisualTest_DrawEmpiricalCDF(sample, sample.getMin()[0], sample.getMax()[0])\n",
    "ecdf_E.setLegends([\"Empirical CDF\"])\n",
    "_ = View(ecdf_E, figure=fig, axes=[ax_cdf])"
   ]
  },
  {
   "cell_type": "code",
   "execution_count": 83,
   "metadata": {
    "collapsed": false
   },
   "outputs": [],
   "source": [
    "MCS_algorithm = ot.MonteCarlo(event) \n",
    "MCS_algorithm.setMaximumOuterSampling(40000) \n",
    "MCS_algorithm.setBlockSize(1) \n",
    "MCS_algorithm.setMaximumCoefficientOfVariation(.1)\n",
    "MCS_algorithm.run()\n",
    "MCS_result = MCS_algorithm.getResult()"
   ]
  },
  {
   "cell_type": "code",
   "execution_count": 84,
   "metadata": {
    "collapsed": false
   },
   "outputs": [
    {
     "name": "stdout",
     "output_type": "stream",
     "text": [
      "Proability estimate = 5.26e-03\n",
      "Coefficient of variation = 0.10\n",
      "95% Confidence Interval = [4.23e-03, 6.29e-03]\n"
     ]
    }
   ],
   "source": [
    "print \"Proability estimate = %.2e\" % MCS_result.getProbabilityEstimate() \n",
    "print \"Coefficient of variation = %.2f\" % MCS_result.getCoefficientOfVariation()\n",
    "print \"95%% Confidence Interval = [%.2e, %.2e]\" % (MCS_result.getProbabilityEstimate() - .5 * MCS_result.getConfidenceLength(0.95),\n",
    "                                                   MCS_result.getProbabilityEstimate() + .5 * MCS_result.getConfidenceLength(0.95))"
   ]
  },
  {
   "cell_type": "code",
   "execution_count": 85,
   "metadata": {
    "collapsed": false
   },
   "outputs": [
    {
     "data": {
      "image/png": "[encoded data removed]",
      "text/plain": [
       "<matplotlib.figure.Figure at 0x7fad916f8810>"
      ]
     },
     "metadata": {},
     "output_type": "display_data"
    }
   ],
   "source": [
    "_ = View(MCS_algorithm.drawProbabilityConvergence(.95))"
   ]
  },
  {
   "cell_type": "code",
   "execution_count": 38,
   "metadata": {
    "collapsed": false
   },
   "outputs": [],
   "source": []
  }
 ],
 "metadata": {
  "css": [
   ""
  ],
  "kernelspec": {
   "display_name": "Python 2",
   "language": "python",
   "name": "python2"
  },
  "language_info": {
   "codemirror_mode": {
    "name": "ipython",
    "version": 2
   },
   "file_extension": ".py",
   "mimetype": "text/x-python",
   "name": "python",
   "nbconvert_exporter": "python",
   "pygments_lexer": "ipython2",
   "version": "2.7.11"
  }
 },
 "nbformat": 4,
 "nbformat_minor": 0
}
